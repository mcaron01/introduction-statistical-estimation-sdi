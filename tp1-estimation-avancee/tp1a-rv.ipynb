{
 "cells": [
  {
   "cell_type": "markdown",
   "id": "92d86d7a",
   "metadata": {},
   "source": [
    "# TP1a - Génération de variables aléatoires (Première partie)\n",
    "\n",
    "## Estimation avancée - G3 SDIA\n",
    "\n",
    "Dans ce TP, on s'intéresse à la génération de variables aléatoires, i.e., la capacité de produire des échantillons finis de variables ou vecteurs aléatoires d'une loi donnée. On suppose que l'on dispose d'un générateur de loi uniforme sur $[0,1]$ (avec Numpy, il est donné par $\\texttt{np.random.rand}$). À partir de ce générateur, le but de ce TP sera de générer des échantillons d'autres lois, avec des méthodes simples, notamment la méthode de la *transformée inverse*. Des méthodes plus sophistiquées (acceptation-rejet, échantillonnage d'importance) seront présentées et étudiées à la séance suivante (après les vacances). Ce sera le sujet du TP-1b.\n",
    "\n",
    "Pour chaque question, justifier la solution puis l'implémenter. Comparer avec la densité théorique à l'aide d'histogrammes ou de *kernel density estimates*.\n",
    "\n",
    "### Instructions\n",
    "\n",
    "1. Renommer votre notebook sous la forme `tp1a_Nom1_Nom2.ipynb`, et inclure le nom du binôme dans le notebook. \n",
    "\n",
    "2. Votre code, ainsi que toute sortie du code, doivent être commentés !\n",
    "\n",
    "3. Déposer votre notebook sur Moodle dans la section prévue à cet effet avant la date limite : 8 Novembre 2023, 23h59."
   ]
  },
  {
   "cell_type": "code",
   "execution_count": null,
   "id": "9759fbeb",
   "metadata": {},
   "outputs": [],
   "source": [
    "import numpy as np\n",
    "from matplotlib import pyplot as plt\n",
    "from sklearn.neighbors import KernelDensity"
   ]
  },
  {
   "cell_type": "markdown",
   "id": "c4b2345b",
   "metadata": {},
   "source": [
    "### Partie 1 - Pour s'échauffer : lois uniformes"
   ]
  },
  {
   "cell_type": "markdown",
   "id": "a9b56ae0",
   "metadata": {},
   "source": [
    "**Q1**. À partir de $N$ échantillons d'une loi uniforme sur l'intervalle $[0,1]$, comment obtenir $N$ échantillons d'une loi uniforme sur l'intervalle $[a,b]$ ?"
   ]
  },
  {
   "cell_type": "markdown",
   "id": "fad77428",
   "metadata": {},
   "source": [
    "---- Votre réponse ici ----"
   ]
  },
  {
   "cell_type": "code",
   "execution_count": null,
   "id": "2c884b7e",
   "metadata": {},
   "outputs": [],
   "source": [
    "#####\n",
    "### YOUR CODE HERE\n",
    "#####"
   ]
  },
  {
   "cell_type": "markdown",
   "id": "f7724bbd",
   "metadata": {},
   "source": [
    "**Q2**. Comment obtenir $N$ échantillons d'une loi uniforme sur le pavé $[a,b] \\times [c,d]$ ?"
   ]
  },
  {
   "cell_type": "markdown",
   "id": "3d579c3a",
   "metadata": {},
   "source": [
    "---- Votre réponse ici ----"
   ]
  },
  {
   "cell_type": "code",
   "execution_count": null,
   "id": "427a0a47",
   "metadata": {},
   "outputs": [],
   "source": [
    "#####\n",
    "### YOUR CODE HERE\n",
    "#####"
   ]
  },
  {
   "cell_type": "markdown",
   "id": "e36ecc61",
   "metadata": {},
   "source": [
    "**Q3**. À partir de $N$ échantillons de loi uniforme sur l'intervalle $[0,1]$, comment obtenir $N$ échantillon de loi uniforme discrète sur $\\{1, ..., K\\}$ ?"
   ]
  },
  {
   "cell_type": "markdown",
   "id": "4254ca07",
   "metadata": {},
   "source": [
    "---- Votre réponse ici ----"
   ]
  },
  {
   "cell_type": "code",
   "execution_count": null,
   "id": "8e1488e4",
   "metadata": {},
   "outputs": [],
   "source": [
    "#####\n",
    "### YOUR CODE HERE\n",
    "#####"
   ]
  },
  {
   "cell_type": "markdown",
   "id": "1eb13dc1",
   "metadata": {},
   "source": [
    "### Partie 2 - Méthode de la transformée inverse"
   ]
  },
  {
   "cell_type": "markdown",
   "id": "47fa7472",
   "metadata": {},
   "source": [
    "Soit $X$ une variable aléatoire réelle de fonction de répartition $F$ (rappel : $F$ est une fonction croissante de $\\mathbb{R}$ dans $[0,1]$, et \"càdlàg\", mais pas nécessairement bijective). On définit la **fonction inverse généralisée** $F^{-1}$ de $F$ par :\n",
    "$$\\forall~u \\in [0,1], F^{-1}(u) = \\inf\\{x \\in \\mathbb{R}, F(x) \\geq u\\}.$$\n",
    "\n",
    "Cette fonction conïncide avec l'inverse classique quand $F$ est bijective (attention même si $F$ est continue elle n'est pas nécessairement bijective, il peut y avoir des plateaux)."
   ]
  },
  {
   "cell_type": "markdown",
   "id": "dd263cd2",
   "metadata": {},
   "source": [
    "**Q1**. Montrer la proposition suivante :\n",
    "\n",
    "Si $U$ suit la loi uniforme sur l'intervalle $[0,1]$, alors la v.a. $F^{-1}(U)$ a pour fonction de répartition $F$ (et donc la même loi que $X$).\n",
    "\n",
    "Cela donne donc la méthode de la **transformée inverse** ; Si l'on connait explicitement la fonction $F^{-1}$, on peut simuler de n'importe quelle variable aléatoire à partir d'un échantillon de loi uniforme."
   ]
  },
  {
   "cell_type": "markdown",
   "id": "306be0b2",
   "metadata": {},
   "source": [
    "---- Votre réponse ici ----"
   ]
  },
  {
   "cell_type": "markdown",
   "id": "65403179",
   "metadata": {},
   "source": [
    "**Q2**. À l'aide de cette méthode, simuler $N$ échantillons d'une loi exponentielle de paramètre $\\lambda$."
   ]
  },
  {
   "cell_type": "markdown",
   "id": "64264261",
   "metadata": {},
   "source": [
    "---- Votre réponse ici ----"
   ]
  },
  {
   "cell_type": "code",
   "execution_count": null,
   "id": "382c3439",
   "metadata": {},
   "outputs": [],
   "source": [
    "#####\n",
    "### YOUR CODE HERE\n",
    "#####"
   ]
  },
  {
   "cell_type": "markdown",
   "id": "72c2c484",
   "metadata": {},
   "source": [
    "**Q3**. À l'aide de cette méthode, simuler $N$ échantillons d'une loi de Cauchy (standard, i.e. $x_0 = 0, a = 1$)."
   ]
  },
  {
   "cell_type": "markdown",
   "id": "8fa5cba7",
   "metadata": {},
   "source": [
    "---- Votre réponse ici ----"
   ]
  },
  {
   "cell_type": "code",
   "execution_count": null,
   "id": "3399976a",
   "metadata": {},
   "outputs": [],
   "source": [
    "#####\n",
    "### YOUR CODE HERE\n",
    "#####"
   ]
  },
  {
   "cell_type": "markdown",
   "id": "b7ebc996",
   "metadata": {},
   "source": [
    "**Q4**. Quelles sont les limitations de la méthode de la transformée inverse ?"
   ]
  },
  {
   "cell_type": "markdown",
   "id": "98ebb357",
   "metadata": {},
   "source": [
    "---- Votre réponse ici ----"
   ]
  },
  {
   "cell_type": "markdown",
   "id": "9984ed5e",
   "metadata": {},
   "source": [
    "### Partie 3 - Transformation particulière : Méthode de Box-Müller"
   ]
  },
  {
   "cell_type": "markdown",
   "id": "e64adf40",
   "metadata": {},
   "source": [
    "**Q1**. Soit $R \\sim \\text{Exp}(1/2)$ et $\\Theta \\sim U([0, 2 \\pi])$ deux variables aléatoires indépendantes.\n",
    "\n",
    "Montrer que $X = \\sqrt{R} cos(\\Theta)$ et $Y = \\sqrt{R} sin(\\Theta)$ sont deux variables indépendantes de loi $\\mathcal{N}(0,1)$.\n",
    "\n",
    "Cette méthode est connue comme la méthode de Box-Müller (1958), et est l'une des méthodes de référence pour générer des variables aléatoires normales."
   ]
  },
  {
   "cell_type": "markdown",
   "id": "ab2fef0b",
   "metadata": {},
   "source": [
    "----- Votre réponse ici -----"
   ]
  },
  {
   "cell_type": "markdown",
   "id": "5ccdfa6e",
   "metadata": {},
   "source": [
    "**Q2**. En déduire une façon de générer un $N$ échantillons de loi normale $\\mathcal{N}(0,1)$ à partir d'échantillons d'une loi uniforme sur l'intervalle $[0,1]$."
   ]
  },
  {
   "cell_type": "code",
   "execution_count": null,
   "id": "92007eda",
   "metadata": {},
   "outputs": [],
   "source": [
    "#####\n",
    "### YOUR CODE HERE\n",
    "#####"
   ]
  },
  {
   "cell_type": "markdown",
   "id": "522dd285",
   "metadata": {},
   "source": [
    "**Q3**. À partir de $N$ échantillons de loi $\\mathcal{N}(0,1)$, comment obtenir un $N$ échantillons de loi $\\mathcal{N}(\\mu, \\sigma^2)$ ?"
   ]
  },
  {
   "cell_type": "markdown",
   "id": "ed66fbc8",
   "metadata": {},
   "source": [
    "---- Votre réponse ici ----"
   ]
  },
  {
   "cell_type": "code",
   "execution_count": null,
   "id": "5cb54d7f",
   "metadata": {},
   "outputs": [],
   "source": [
    "#####\n",
    "### YOUR CODE HERE\n",
    "#####"
   ]
  },
  {
   "cell_type": "markdown",
   "id": "616d4fb2",
   "metadata": {},
   "source": [
    "**Q4**. On s'intéresse maintenant à la simulation d'un **vecteur** gaussien en dimension $d$.\n",
    "\n",
    "Expliquer pourquoi la méthode de Box-Müller permet de simuler des vecteurs de loi $\\mathcal{N_d}(\\mathbf{0}_d, I_d)$.\n",
    "\n",
    "Soit $X \\sim \\mathcal{N_d}(\\mathbf{0}_d, I_d)$, $\\mathbf{m} \\in \\mathbb{R}^d$, et $\\boldsymbol{\\Sigma} \\in \\mathbb{R}^{d \\times d}$ symétrique définie positive. On suppose qu'il existe $\\mathbf{L} \\in \\mathbb{R}^{d \\times d}$ tel que $\\boldsymbol{\\Sigma} = \\mathbf{L} \\mathbf{L}^{\\top}$. À l'aide des propriétés des vecteurs gaussiens, montrer que $Y = m + \\mathbf{L}X \\sim \\mathcal{N_d}(\\mathbf{m}, \\boldsymbol{\\Sigma})$."
   ]
  },
  {
   "cell_type": "markdown",
   "id": "82f61970",
   "metadata": {},
   "source": [
    "---- Votre réponse ici ----"
   ]
  },
  {
   "cell_type": "markdown",
   "id": "38b68558",
   "metadata": {},
   "source": [
    "**Q5**. On peut montrer qu'une telle matrice $\\mathbf{L}$ existe toujours. C'est la **décomposition de Cholesky** ($\\mathbf{L}$ est triangulaire inférieure), qui est fondamentale en statistique et *machine learning*. Elle tire son nom d'André-Louis Cholesky, ingénieur polytechnicien, mort pendant la première guerre mondiale (résultat publié de manière posthume en 1924). À noter que le coût de calcul de cette décomposition est $\\mathcal{O}(d^3)$ !\n",
    "\n",
    "À partir de $N$ échantillons de loi $\\mathcal{N_d}(\\mathbf{0}_d, I_d)$, générer $N$ échantillons de loi $\\mathcal{N_d}(\\mathbf{m}, \\boldsymbol{\\Sigma})$. Prendre $d=2$ et utiliser $\\texttt{np.linalg.cholesky}$."
   ]
  },
  {
   "cell_type": "code",
   "execution_count": null,
   "id": "8d32b30c",
   "metadata": {},
   "outputs": [],
   "source": [
    "#####\n",
    "### YOUR CODE HERE\n",
    "#####"
   ]
  }
 ],
 "metadata": {
  "kernelspec": {
   "display_name": "Python 3 (ipykernel)",
   "language": "python",
   "name": "python3"
  },
  "language_info": {
   "codemirror_mode": {
    "name": "ipython",
    "version": 3
   },
   "file_extension": ".py",
   "mimetype": "text/x-python",
   "name": "python",
   "nbconvert_exporter": "python",
   "pygments_lexer": "ipython3",
   "version": "3.9.18"
  }
 },
 "nbformat": 4,
 "nbformat_minor": 5
}
