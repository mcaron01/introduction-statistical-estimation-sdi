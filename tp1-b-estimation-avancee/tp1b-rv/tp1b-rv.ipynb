{
 "cells": [
  {
   "cell_type": "markdown",
   "id": "8e4d159a",
   "metadata": {},
   "source": [
    "# TP1b - Génération de variables aléatoires (Deuxième partie)\n",
    "\n",
    "## Estimation avancée - G3 SDIA\n",
    "\n",
    "Dans ce TP, on continue de s'intéresser à la génération de variables aléatoires. Ce TP se concentre sur la méthode acceptation-rejet, l'estimation de Monte Carlo, et l'échantillonnage d'importance.\n",
    "\n",
    "### Instructions\n",
    "\n",
    "1. Renommer votre notebook sous la forme `tp1a_Nom1_Nom2.ipynb`, et inclure le nom du binôme dans le notebook. \n",
    "\n",
    "2. Votre code, ainsi que toute sortie du code, doivent être commentés !\n",
    "\n",
    "3. Déposer votre notebook sur Moodle dans la section prévue à cet effet avant la date limite : 26 Novembre 2023, 23h59."
   ]
  },
  {
   "cell_type": "code",
   "execution_count": 1,
   "id": "6756c395",
   "metadata": {},
   "outputs": [],
   "source": [
    "import numpy as np\n",
    "from matplotlib import pyplot as plt"
   ]
  },
  {
   "cell_type": "markdown",
   "id": "4c63ec01",
   "metadata": {},
   "source": [
    "### Partie 1 - Acceptation-Rejet (*Rejection sampling*)\n",
    "\n",
    "NB : Toujours comparer les distributions empiriques obtenues aux densités théoriques à l'aide d'histogrammes ou de *kernel density estimates*."
   ]
  },
  {
   "cell_type": "markdown",
   "id": "86605b59",
   "metadata": {},
   "source": [
    "**Q1 - Loi Bêta**. On considère la loi Bêta, dont la densité sur $[0,1]$ est\n",
    "$$f(x;\\alpha, \\beta) = \\frac{\\Gamma(\\alpha + \\beta)}{\\Gamma(\\alpha) \\Gamma(\\beta)} x^{\\alpha-1} (1-x)^{\\beta-1} \\quad \\alpha > 0, \\quad \\beta > 0.$$\n",
    "\n",
    "On souhaite obtenir des échantillons de la loi Bêta dans le cas suivant : $\\alpha = 2, \\beta = 2$.\n",
    "* Expiquer pourquoi il est difficile de mettre en place la méthode de la transformée inverse.\n",
    "* Quelle loi très simple peut-on utiliser comme loi instrumentale ?\n",
    "* Implémenter alors un algorithme acceptation-rejet pour obtenir $N = 10000$ échantillons.\n",
    "* Comparer la proportion empirique d'échantillons acceptés avec sa valeur théorique.\n",
    "* Quelle difficulté rencontre-t-on pour le cas $\\alpha = 0.5, \\beta = 0.5$ ?"
   ]
  },
  {
   "cell_type": "markdown",
   "metadata": {},
   "source": [
    "## *Explication de pourquoi il est difficile de mettre en place la méthode de la transformée inverse*\n",
    "\n",
    "Il est difficile de mettre en place la méthode de la transformée inverse pour la loi Beta ($\\alpha = 2, \\beta = 2$) en raison de la complexité de l'inversion de la fonction de répartition cumulative associée à cette distribution.\n",
    "\n",
    "La pdf de la loi Beta est donnée par :\n",
    "\n",
    "$f(x;\\alpha, \\beta) = \\frac{\\Gamma(\\alpha + \\beta)}{\\Gamma(\\alpha) \\Gamma(\\beta)} x^{\\alpha-1} (1-x)^{\\beta-1}$\n",
    "\n",
    "La fonction de répartition cumulative associée est l'intégrale de la fonction de densité de probabilité :\n",
    "\n",
    "$F(x;\\alpha, \\beta) = \\int_0^x f(t;\\alpha, \\beta) \\, dt$\n",
    "\n",
    "Ainsi pour inverser la CDF et obtenir la transformée inverse, on doit résoudre $F(x) = u$ pour x, où u est une variable aléatoire uniforme. Cette équation ne peut pas être résolue de manière analytique de manière simple en termes de fonctions élémentaires.\n",
    "\n",
    "Cela rend difficile la mise en place de la méthode de la transformée inverse."
   ]
  },
  {
   "cell_type": "markdown",
   "metadata": {},
   "source": [
    "## *Quelle loi très simple peut-on utiliser comme loi instrumentale ?*\n",
    "\n",
    "Pour la loi Beta ($\\alpha = 2, \\beta = 2$), une loi très simple que l'on peut utiliser comme loi instrumentale est la loi uniforme sur l'intervalle $[0, 1]$. \n",
    "\n",
    "La densité de probabilité de la loi uniforme sur $[0, 1]$ est constante sur cet intervalle, ce qui simplifie le processus d'acceptation-rejet. Ainsi en utilisant la loi uniforme comme loi instrumentale, on peut générer des échantillons aléatoires selon la méthode d'acceptation-rejet en comparant la densité de probabilité de la loi Beta avec la densité de probabilité de la loi uniforme."
   ]
  },
  {
   "cell_type": "markdown",
   "metadata": {},
   "source": [
    "## *Implémentation de l'algorithme acceptation-rejet pour obtenir $N = 10000$ échantillons*"
   ]
  },
  {
   "cell_type": "code",
   "execution_count": 2,
   "metadata": {},
   "outputs": [],
   "source": [
    "import scipy.stats as stats\n",
    "\n",
    "# Paramètres de la loi Beta\n",
    "alpha = 2\n",
    "beta = 2"
   ]
  },
  {
   "cell_type": "code",
   "execution_count": 3,
   "metadata": {},
   "outputs": [],
   "source": [
    "# Fonction de densité de la loi Beta\n",
    "def beta_density(x, alpha, beta):\n",
    "    return stats.beta.pdf(x, alpha, beta)\n",
    "\n",
    "# Fonction de la loi uniforme\n",
    "def proposal_density(x):\n",
    "    return stats.uniform.pdf(x)"
   ]
  },
  {
   "cell_type": "code",
   "execution_count": 4,
   "metadata": {},
   "outputs": [],
   "source": [
    "# Constante de normalisation M\n",
    "M = 2.0\n",
    "\n",
    "# Fonction de génération des échantillons par acceptation-rejet\n",
    "def rejection_sampling(N):\n",
    "    samples = []\n",
    "    accepted_samples = []\n",
    "    \n",
    "    for _ in range(N):\n",
    "        x = np.random.uniform(0, 1)\n",
    "        u = np.random.uniform(0, M * proposal_density(x))\n",
    "        \n",
    "        if u <= beta_density(x, alpha, beta):\n",
    "            accepted_samples.append(x)\n",
    "        samples.append(x)\n",
    "    \n",
    "    return np.array(samples), np.array(accepted_samples)"
   ]
  },
  {
   "cell_type": "code",
   "execution_count": 5,
   "metadata": {},
   "outputs": [
    {
     "name": "stdout",
     "output_type": "stream",
     "text": [
      "Proportion empirique d'échantillons acceptés : 0.4981\n"
     ]
    }
   ],
   "source": [
    "# Nombre d'échantillons\n",
    "N = 10000\n",
    "\n",
    "# On récupère donc nos échantillons avec la fonction de génération des échantillons par acceptation-rejet\n",
    "samples, accepted_samples = rejection_sampling(N)\n",
    "\n",
    "# Maintenant on peut calculer la proportion empirique d'échantillons acceptés\n",
    "empirical_acceptance_ratio = len(accepted_samples) / N\n",
    "print(f\"Proportion empirique d'échantillons acceptés : {empirical_acceptance_ratio}\")"
   ]
  },
  {
   "cell_type": "markdown",
   "metadata": {},
   "source": [
    "##  *Comparaison de la proportion empirique d'échantillons acceptés avec la valeur théorique* \n",
    "\n",
    "La valeur théorique de la proportion d'échantillons acceptés est donnée par $ p = \\frac{\\text{surface sous la courbe de la loi Beta}}{\\text{surface sous la courbe de la loi uniforme}} $\n",
    "\n",
    "Pour la loi Beta(2,2), cette valeur est $ p = \\frac{1}{2} $\n",
    "\n",
    "Ainsi, la proportion empirique d'échantillons acceptés qu'on obtiens (0.4981) est proche de la valeur théorique. La légère variation provient de la nature aléatoire de la méthode d'acceptation-rejet, mais étant donné que cette différence est très petite, l'algo fonctionne correctement car il produit des échantiilons conformes à la distribution que l'on veut."
   ]
  },
  {
   "cell_type": "markdown",
   "id": "f4b4a517",
   "metadata": {},
   "source": [
    "## *Difficulté pour le cas α = 0.5, β = 0.5*\n",
    "\n",
    "Le cas $\\alpha = 0.5, \\beta = 0.5$ pose problème car la fonction de densité de la loi Beta devient infinie à $x = 0$ et $x = 1$.\n",
    "\n",
    "La présence de singularités rend difficile l'utilisation de la proposition uniforme (en tant que loi instrumentale) car elle ne peut pas envelopper les singularités aux extrémités de la distribution Beta($0.5, 0.5$). La loi uniforme n'est donc pas capable de générer des échantillons suffisamment proches de 0 et 1 pour couvrir ces zones problématiques."
   ]
  },
  {
   "cell_type": "markdown",
   "id": "0b87c254",
   "metadata": {},
   "source": [
    "**Q2 - Loi Gamma**. On considère la loi Gamma, dont la densité sur $\\mathbb{R}_+$ est définie par\n",
    "$$f(x;\\alpha,\\beta) = \\frac{\\beta^\\alpha}{\\Gamma(\\alpha)} exp(-\\beta x) x^{\\alpha - 1}.$$\n",
    "\n",
    "Nous avons déjà vu en TD que si $X_1, ..., X_n$ sont des v.a. indépendantes de loi Exponentielle de paramètre $\\beta$, alors $Y = \\sum_{i=1}^n X_i$ suit une loi Gamma de paramètres $(n,\\beta)$. Ceci nous permet de simuler de la loi Gamma quand $\\alpha$ est entier, mais pas lorsque $\\alpha$ n'est pas entier.\n",
    "\n",
    "Dans ce cas, on va utiliser une loi Gamma $(\\lfloor \\alpha \\rfloor, \\beta - 1)$ comme loi instrumentale :\n",
    "* Obtenir la formule de la valeur optimale de la constante *M*, puis la calculer numériquement\n",
    "* Implémenter un algorithme acceptation-rejet pour générer 10000 échantillons de la loi Gamma avec les paramètres $\\alpha = 2.5$ et $\\beta = 1.5$."
   ]
  },
  {
   "cell_type": "markdown",
   "metadata": {},
   "source": [
    "## *Obtenir la formule de la valeur optimale de la constante *M*, puis la calculer numériquement*"
   ]
  },
  {
   "cell_type": "markdown",
   "metadata": {},
   "source": [
    "La constante M dans la méthode d'acceptation-rejet est choisie de manière à ce que $M \\cdot g(x) \\geq f(x)$ pour tous les x dans le domaine d'intérêt, où $g(x)$ est la loi instrumentale. Dans notre cas, la loi instrumentale est une loi Gamma($\\lfloor \\alpha \\rfloor, \\beta - 1$)\n",
    "\n",
    "La formule optimale pour M dans le cas général de la loi Gamma est donnée par :\n",
    "\n",
    "$ M = \\frac{1}{f_{\\text{max}}} $\n",
    "\n",
    "où $f_{\\text{max}}$ est la valeur maximale de la densité de probabilité de la loi cible $f(x;\\alpha, \\beta)$"
   ]
  },
  {
   "cell_type": "markdown",
   "metadata": {},
   "source": [
    "# jouer sur les deux pdf et on trouvera M le reste est faux !!!!!!"
   ]
  },
  {
   "cell_type": "code",
   "execution_count": 19,
   "metadata": {},
   "outputs": [
    {
     "name": "stderr",
     "output_type": "stream",
     "text": [
      "C:\\Users\\mathc\\AppData\\Local\\Temp\\ipykernel_8140\\478136369.py:29: RuntimeWarning: invalid value encountered in true_divide\n",
      "  M = np.max(target_density / proposal_density_values)\n"
     ]
    },
    {
     "data": {
      "image/png": "[encoded data removed]",
      "text/plain": [
       "<Figure size 640x480 with 1 Axes>"
      ]
     },
     "metadata": {},
     "output_type": "display_data"
    },
    {
     "name": "stdout",
     "output_type": "stream",
     "text": [
      "Valeur optimale de la constante M : nan\n"
     ]
    }
   ],
   "source": []
  },
  {
   "cell_type": "markdown",
   "metadata": {},
   "source": [
    "**Calcul numérique de la constante M**"
   ]
  },
  {
   "cell_type": "code",
   "execution_count": 14,
   "id": "b5e51457",
   "metadata": {},
   "outputs": [],
   "source": [
    "# Paramètres de la loi Gamma cible\n",
    "alpha = 2.5\n",
    "beta = 1.5\n",
    "\n",
    "# Paramètres de la loi instrumentale (Gamma tronquée)\n",
    "instrumental_alpha = np.floor(alpha)\n",
    "instrumental_beta = beta - 1"
   ]
  },
  {
   "cell_type": "code",
   "execution_count": 15,
   "metadata": {},
   "outputs": [],
   "source": [
    "# Fonction de densité de la loi Gamma\n",
    "def gamma_density(x, alpha, beta):\n",
    "    return (beta**alpha / stats.gamma(alpha).pdf(1)) * np.exp(-beta * x) * x**(alpha - 1)"
   ]
  },
  {
   "cell_type": "code",
   "execution_count": 16,
   "metadata": {},
   "outputs": [],
   "source": [
    "# Valeur maximale de la densité de la loi Gamma\n",
    "f_max = gamma_density(stats.gamma.ppf(0.999, instrumental_alpha, scale=1/(instrumental_beta)), alpha, beta)\n",
    "\n",
    "# Constante de normalisation M\n",
    "M = 1 / f_max"
   ]
  },
  {
   "cell_type": "code",
   "execution_count": 17,
   "metadata": {},
   "outputs": [
    {
     "name": "stdout",
     "output_type": "stream",
     "text": [
      "Valeur optimale de la constante M : 1356170575.1001613\n"
     ]
    }
   ],
   "source": [
    "print(\"Valeur optimale de la constante M :\", M)"
   ]
  },
  {
   "cell_type": "markdown",
   "metadata": {},
   "source": [
    "## *Implémentation de l'algorithme acceptation-rejet pour générer 10000 échantillons de la loi Gamma avec les paramètres $\\alpha = 2.5$ et $\\beta = 1.5$*"
   ]
  },
  {
   "cell_type": "code",
   "execution_count": null,
   "metadata": {},
   "outputs": [],
   "source": [
    "# Fonction de proposition (Gamma tronquée)\n",
    "def proposal_density(x):\n",
    "    return stats.gamma.pdf(x, instrumental_alpha, scale=1/(instrumental_beta))"
   ]
  },
  {
   "cell_type": "code",
   "execution_count": 8,
   "metadata": {},
   "outputs": [
    {
     "name": "stderr",
     "output_type": "stream",
     "text": [
      "c:\\Users\\mathc\\AppData\\Local\\Programs\\Python\\Python38-32\\lib\\site-packages\\numpy\\lib\\histograms.py:905: RuntimeWarning: invalid value encountered in true_divide\n",
      "  return n/db/n.sum(), bin_edges\n"
     ]
    },
    {
     "data": {
      "image/png": "[encoded data removed]",
      "text/plain": [
       "<Figure size 640x480 with 1 Axes>"
      ]
     },
     "metadata": {},
     "output_type": "display_data"
    }
   ],
   "source": [
    "# Génération des échantillons par acceptation-rejet\n",
    "def rejection_sampling_gamma(N):\n",
    "    samples = []\n",
    "    accepted_samples = []\n",
    "    \n",
    "    for _ in range(N):\n",
    "        x = np.random.gamma(instrumental_alpha, scale=1/(instrumental_beta))\n",
    "        u = np.random.uniform(0, M * proposal_density(x))\n",
    "        \n",
    "        if u <= gamma_density(x, alpha, beta):\n",
    "            accepted_samples.append(x)\n",
    "        samples.append(x)\n",
    "    \n",
    "    return np.array(samples), np.array(accepted_samples)\n",
    "\n",
    "# Nombre d'échantillons\n",
    "N = 10000\n",
    "\n",
    "# Obtention des échantillons\n",
    "samples, accepted_samples = rejection_sampling_gamma(N)\n",
    "\n",
    "# Affichage des résultats (par exemple, un histogramme)\n",
    "plt.hist(samples, bins=30, density=True, alpha=0.5, label='Échantillons totaux')\n",
    "plt.hist(accepted_samples, bins=30, density=True, alpha=0.5, label='Échantillons acceptés')\n",
    "x = np.linspace(0, 10, 1000)\n",
    "plt.plot(x, gamma_density(x, alpha, beta), 'r', label='Densité théorique Gamma(2.5, 1.5)')\n",
    "plt.legend()\n",
    "plt.show()"
   ]
  },
  {
   "cell_type": "markdown",
   "id": "67117594",
   "metadata": {},
   "source": [
    "---- Votre réponse ici ----"
   ]
  },
  {
   "cell_type": "markdown",
   "id": "5cb0206e",
   "metadata": {},
   "source": [
    "**Q3 - Gaussienne tronquée**. On souhaite maintenant obtenir des échantillons d'une loi gaussienne tronquée, i.e., une loi normale restreinte à un certain intervalle (en 1D), ou un certain pavé de l'espace (pour le cas multivarié).\n",
    "\n",
    "On considère le cas d'une gaussienne multivariée $\\mathcal{N}(0, I_d)$ que l'on tronque sur le pavé $[-1,2]^d$. On prendra comme loi instrumentale la loi $\\mathcal{N}(0, I_d)$ (i.e., non tronquée)\n",
    "\n",
    "* Justifier ce choix de loi instrumentale.\n",
    "* Pour le cas univarié ($d=1$), calculer numériquement la probabilité d'acceptation de l'algorithme acceptation-rejet. On pourra utiliser $\\texttt{scipy.stats.cdf}$.\n",
    "* Que devient cette probabilité pour $d=10$ ? $d=100$ ? Conclure quant à la faiblesse fondamentale de l'algorithme acceptation-rejet."
   ]
  },
  {
   "cell_type": "code",
   "execution_count": null,
   "id": "f5c74ca9",
   "metadata": {},
   "outputs": [],
   "source": [
    "#####\n",
    "### YOUR CODE HERE\n",
    "#####"
   ]
  },
  {
   "cell_type": "markdown",
   "id": "a21f5985",
   "metadata": {},
   "source": [
    "---- Votre réponse ici ----"
   ]
  },
  {
   "cell_type": "markdown",
   "id": "28fc1e72",
   "metadata": {},
   "source": [
    "## Partie 2 - Estimation de $\\pi$ par Monte Carlo\n",
    "\n",
    "On rappelle que $\\pi$ est égal à la surface d'un cercle de rayon 1, i.e.\n",
    "$$ \\pi = \\int_{-1}^1 \\int_{-1}^1 \\mathbb{1}_{x^2 + y^2 \\leq 1}(x,y) dx dy.$$\n",
    "\n",
    "Ce qui peut se réécrire comme\n",
    "$$ \\pi = 4 \\int_{-1}^1 \\int_{-1}^1 \\mathbb{1}_{x^2 + y^2 \\leq 1}(x,y) p(x) p(y) dx dy.$$\n",
    "Où $p(x)$ et $p(y)$ sont les densités de la loi uniforme sur $[-1,1]$.\n",
    "\n",
    "* En déduire l'esimtateur de Monte Carlo de $\\pi$.\n",
    "* Représenter l'évolution de la valeur de l'estimation par Monte Carlo de $\\pi$ en fonction du nombre d'échantillons (aller jusqu'à 10000). Quel résultat mathématique fondamental est-on en train d'illustrer ?\n",
    "* (Bonus) - Faire 100 simulations de l'estimation par Monte Carlo de $\\pi$ avec $N = 1000$ échantillons, et vérifier le résultat de convergence en loi de l'estimateur MC donné par le TCL."
   ]
  },
  {
   "cell_type": "code",
   "execution_count": null,
   "id": "77871368",
   "metadata": {},
   "outputs": [],
   "source": [
    "#####\n",
    "### YOUR CODE HERE\n",
    "#####"
   ]
  },
  {
   "cell_type": "markdown",
   "id": "95fe1da2",
   "metadata": {},
   "source": [
    "---- Votre réponse ici ----"
   ]
  },
  {
   "cell_type": "markdown",
   "id": "14235456",
   "metadata": {},
   "source": [
    "### Partie 3 - Échantillonnage d'importance (*Importance sampling*)"
   ]
  },
  {
   "cell_type": "markdown",
   "id": "226e2d38",
   "metadata": {},
   "source": [
    "On cherche à estimer $\\mathbb{P}(X > 3)$ pour $X \\sim \\mathcal{N}(0,1)$.\n",
    "\n",
    "* Ré-écrire cette probabilité comme une intégrale et en déduire l'estimateur de Monte Carlo \"standard\"\n",
    "* Simuler $100$ fois $N = 10000$ échantillons, et donner la moyenne et la variance empiriques de l'estimateur de Monte Carlo standard\n",
    "* On souhaite maintenant implémenter un schéma d'échantillonnage d'importance en utilisant comme loi instrumentale $\\mathcal{N}(4,1)$. Donner l'estimateur de Monte Carlo associé.\n",
    "* De même, simuler $100$ fois $N = 10000$ échantillons, et donner la moyenne et la variance empiriques de de deuxième estimateur.\n",
    "* Quantifier la réduction de variance. Pouvait-on s'attendre à ce résultat ?"
   ]
  },
  {
   "cell_type": "code",
   "execution_count": null,
   "id": "9aeb05a9",
   "metadata": {},
   "outputs": [],
   "source": [
    "#####\n",
    "### YOUR CODE HERE\n",
    "#####"
   ]
  },
  {
   "cell_type": "markdown",
   "id": "e9319806",
   "metadata": {},
   "source": [
    "---- Votre réponse ici ----"
   ]
  }
 ],
 "metadata": {
  "kernelspec": {
   "display_name": "Python 3 (ipykernel)",
   "language": "python",
   "name": "python3"
  },
  "language_info": {
   "codemirror_mode": {
    "name": "ipython",
    "version": 3
   },
   "file_extension": ".py",
   "mimetype": "text/x-python",
   "name": "python",
   "nbconvert_exporter": "python",
   "pygments_lexer": "ipython3",
   "version": "3.8.1"
  }
 },
 "nbformat": 4,
 "nbformat_minor": 5
}
