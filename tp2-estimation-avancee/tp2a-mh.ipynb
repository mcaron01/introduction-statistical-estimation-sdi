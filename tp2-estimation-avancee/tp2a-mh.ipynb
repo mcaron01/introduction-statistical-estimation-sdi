{
 "cells": [
  {
   "cell_type": "markdown",
   "id": "a529277c",
   "metadata": {},
   "source": [
    "# TP2 - MCMC\n",
    "\n",
    "## Estimation avancée - G3 SDIA\n",
    "\n",
    "Dans ce TP, on s'intéresse aux méthodes d'échantillonnage dites \"MCMC\" (Monte Carlo par Chaînes de Markov). Le premier exercice consiste à implémenter un Metropolis-Hastings et de regarder l'influence de quelques paramètres. Le deuxième exercice mettra en oeuvre une méthode de régression bayésienne linéaire (disponible dans un deuxième notebook).\n",
    "\n",
    "### Instructions\n",
    "\n",
    "1. Renommer votre notebook sous la forme `tp2a_Nom1_Nom2.ipynb`, et inclure le nom du binôme dans le notebook. \n",
    "\n",
    "2. Votre code, ainsi que toute sortie du code, doivent être commentés !\n",
    "\n",
    "3. Déposer votre notebook sur Moodle dans la section prévue à cet effet avant la date limite : 10 Décembre 2023, 23h59."
   ]
  },
  {
   "cell_type": "code",
   "execution_count": null,
   "id": "a66860e7",
   "metadata": {},
   "outputs": [],
   "source": [
    "import numpy as np\n",
    "from matplotlib import pyplot as plt\n",
    "import scipy.stats as ss"
   ]
  },
  {
   "cell_type": "markdown",
   "id": "b8894323",
   "metadata": {},
   "source": [
    "### Partie 1 - Metropolis-Hastings\n",
    "\n",
    "Dans cet exercice, on cherche à générer des échantillons d'une loi appelée *skew-normal* (cf. [Wikipedia](https://en.wikipedia.org/wiki/Skew_normal_distribution)). C'est une loi à support sur $\\mathbb{R}$ à trois paramètres : $\\alpha \\in \\mathbb{R}$ (paramètre de skewness), $\\xi \\in \\mathbb{R}$ (paramètre de position), et $\\sigma > 0$ (paramètre d'échelle). Dans ce TP nous prendrons $\\alpha = 4, \\xi = 0, \\sigma = 3$.\n",
    "\n",
    "L'objectif est d'implémenter un algorithme Metropolis-Hastings (MH) avec une loi instrumentale Gaussienne $\\mathcal{N}(x_n, \\sigma_0^2)$ (i.e., centrée en l'état courant, de variance $\\sigma_0^2$)."
   ]
  },
  {
   "cell_type": "code",
   "execution_count": null,
   "id": "c8b41d24",
   "metadata": {},
   "outputs": [],
   "source": [
    "# pdf of the target distribution\n",
    "a = 4\n",
    "lc = 0\n",
    "sc = 3\n",
    "x = np.linspace(-4,12,500)\n",
    "y = ss.skewnorm.pdf(x, a, loc=lc, scale=sc)\n",
    "plt.plot(x,y)\n",
    "plt.title('pdf de la loi cible')\n",
    "plt.tight_layout()"
   ]
  },
  {
   "cell_type": "markdown",
   "id": "f90e3221",
   "metadata": {},
   "source": [
    "**Q1.** Écrire une fonction qui implémente l'algorithme MH proposé, prenant comme arguments :\n",
    "* La taille de la chaine N\n",
    "* L'état initial $x_0$\n",
    "* L'écart-type $\\sigma_0$ de la *proposal* gaussienne\n",
    "* Une graine aléatoire\n",
    "\n",
    "Pensez à utiliser les fonctions implémentées dans `scipy.stats` pour les pdfs !"
   ]
  },
  {
   "cell_type": "code",
   "execution_count": null,
   "id": "792e0807",
   "metadata": {},
   "outputs": [],
   "source": [
    "def metropolis_hastings(N, x0, s, seed):\n",
    "    #######\n",
    "    ## YOUR CODE HERE\n",
    "    #######"
   ]
  },
  {
   "cell_type": "markdown",
   "id": "5657dedf",
   "metadata": {},
   "source": [
    "**Q2**. Prendre $N = 1000, x_0 = 1$. Afficher les *traceplots* (échantillons en fonction de $n$) de la chaine pour des valeurs différentes de $\\sigma$ : $0.1, 2, 40$.\n",
    "\n",
    "Pour chacun des cas, comparer la pdf de la loi cible à une estimation par noyaux de la densité ou un histogramme. Commenter."
   ]
  },
  {
   "cell_type": "code",
   "execution_count": null,
   "id": "1d909105",
   "metadata": {},
   "outputs": [],
   "source": [
    "N = 1000\n",
    "x0 = 1\n",
    "s_tab = [0.1, 2, 40]\n",
    "#######\n",
    "## YOUR CODE HERE\n",
    "#######"
   ]
  },
  {
   "cell_type": "markdown",
   "id": "24023763",
   "metadata": {},
   "source": [
    "**Q3.** Prendre $N = 1000, s = 2$. Afficher les *traceplots* pour $x_0$ valant 0 et 50.\n",
    "\n",
    "Pour chacun des cas, comparer la pdf de la loi cible à une estimation par noyaux de la densité ou un histogramme. Commenter."
   ]
  },
  {
   "cell_type": "code",
   "execution_count": null,
   "id": "215fba27",
   "metadata": {},
   "outputs": [],
   "source": [
    "N = 1000\n",
    "s = 2\n",
    "x0_tab = [0, 50]\n",
    "#######\n",
    "## YOUR CODE HERE\n",
    "#######"
   ]
  }
 ],
 "metadata": {
  "kernelspec": {
   "display_name": "Python 3 (ipykernel)",
   "language": "python",
   "name": "python3"
  },
  "language_info": {
   "codemirror_mode": {
    "name": "ipython",
    "version": 3
   },
   "file_extension": ".py",
   "mimetype": "text/x-python",
   "name": "python",
   "nbconvert_exporter": "python",
   "pygments_lexer": "ipython3",
   "version": "3.9.18"
  }
 },
 "nbformat": 4,
 "nbformat_minor": 5
}
